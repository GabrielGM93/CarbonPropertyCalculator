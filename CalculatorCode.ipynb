{
 "cells": [
  {
   "cell_type": "code",
   "execution_count": 1,
   "metadata": {},
   "outputs": [],
   "source": [
    "import pandas as pd"
   ]
  },
  {
   "cell_type": "code",
   "execution_count": 2,
   "metadata": {},
   "outputs": [],
   "source": [
    "#FOOTPRINT CALCULATOR\n",
    "\n",
    "#FOOD"
   ]
  },
  {
   "cell_type": "code",
   "execution_count": 3,
   "metadata": {},
   "outputs": [
    {
     "name": "stdout",
     "output_type": "stream",
     "text": [
      "    Categories  AverageDiet%  MeatEMeal%  Nobeef%  MeatVRarely%  Vegetarian%  \\\n",
      "0  Fat and oil             7           7        7             7            7   \n",
      "1        Sugar             3           3        3             3            3   \n",
      "2         Meat            10          20        0             3            0   \n",
      "3         Fish             7           7       15             6            0   \n",
      "4        Dairy             8          13       10             4           15   \n",
      "5       Fruits            15          10       15            19           20   \n",
      "6   Vegetables            25          20       25            29           30   \n",
      "7      Cereals            25          20       25            29           25   \n",
      "\n",
      "   Vegan%  \n",
      "0       7  \n",
      "1       3  \n",
      "2       0  \n",
      "3       0  \n",
      "4       0  \n",
      "5      25  \n",
      "6      30  \n",
      "7      35  \n"
     ]
    }
   ],
   "source": [
    "#TYPES OF DIET\n",
    "\n",
    "import pandas as pd\n",
    "\n",
    "# DataFrame original\n",
    "categories = ['Fat and oil', 'Sugar', 'Meat', 'Fish', 'Dairy', 'Fruits', 'Vegetables', 'Cereals']\n",
    "AverageDiet = [7, 3, 10, 7, 8, 15, 25, 25]\n",
    "data = {'Categories': categories, 'AverageDiet%': AverageDiet}\n",
    "df = pd.DataFrame(data)\n",
    "\n",
    "# Columnas adicionales a agregar\n",
    "MeatEMeal = [7, 3, 20, 7, 13, 10, 20, 20]\n",
    "Nobeef = [7, 3, 0, 15, 10, 15, 25, 25]\n",
    "MeatVRarely = [7, 3, 3, 6, 4, 19, 29, 29]\n",
    "Vegetarian = [7, 3, 0, 0, 15, 20, 30, 25]\n",
    "Vegan = [7, 3, 0, 0, 0, 25, 30, 35]\n",
    "\n",
    "# Agregar las columnas adicionales al dataframe en la misma línea\n",
    "df = pd.concat([df, pd.DataFrame({'MeatEMeal%': MeatEMeal, 'Nobeef%': Nobeef,'MeatVRarely%': MeatVRarely, 'Vegetarian%': Vegetarian, 'Vegan%': Vegan})], axis=1)\n",
    "\n",
    "# Imprimir el dataframe actualizado\n",
    "print(df)"
   ]
  },
  {
   "cell_type": "code",
   "execution_count": 4,
   "metadata": {},
   "outputs": [
    {
     "name": "stdout",
     "output_type": "stream",
     "text": [
      "    Categories  Result\n",
      "0  Fat and oil    24.5\n",
      "1        Sugar     7.5\n",
      "2         Meat    50.0\n",
      "3         Fish    17.5\n",
      "4        Dairy    32.5\n",
      "5       Fruits    25.0\n",
      "6   Vegetables    50.0\n",
      "7      Cereals    50.0\n",
      "\n",
      "Total Result: 257.0\n"
     ]
    }
   ],
   "source": [
    "import pandas as pd\n",
    "\n",
    "categories = ['Fat and oil', 'Sugar', 'Meat', 'Fish', 'Dairy', 'Fruits', 'Vegetables', 'Cereals']\n",
    "average_diet = [7, 3, 10, 7, 8, 15, 25, 25]\n",
    "meat_meal = [7, 3, 20, 7, 13, 10, 20, 20]\n",
    "no_beef = [7, 3, 0, 15, 10, 15, 25, 25]\n",
    "meat_rarely = [7, 3, 3, 6, 4, 19, 29, 29]\n",
    "vegetarian = [7, 3, 0, 0, 15, 20, 30, 25]\n",
    "vegan = [7, 3, 0, 0, 0, 25, 30, 35]\n",
    "\n",
    "data = {'Categories': categories, 'AverageDiet': average_diet, 'MeatEMeal': meat_meal, 'Nobeef': no_beef,\n",
    "        'MeatVRarely': meat_rarely, 'Vegetarian': vegetarian, 'Vegan': vegan}\n",
    "\n",
    "df = pd.DataFrame(data)\n",
    "\n",
    "\n",
    "def food1(param1):\n",
    "    if param1 == 1:\n",
    "        column_name = \"MeatEMeal\"\n",
    "    elif param1 == 2:\n",
    "        column_name = \"AverageDiet\"\n",
    "    elif param1 == 3:\n",
    "        column_name = \"Nobeef\"\n",
    "    elif param1 == 4:\n",
    "        column_name = \"MeatVRarely\"\n",
    "    elif param1 == 5:\n",
    "        column_name = \"Vegetarian\"\n",
    "    elif param1 == 6:\n",
    "        column_name = \"Vegan\"\n",
    "    else:\n",
    "        return None\n",
    "    \n",
    "    emission_factor_sugar = 0.07\n",
    "    emission_factor_meat = 0.05\n",
    "    \n",
    "    return df[column_name].multiply([emission_factor_sugar, emission_factor_meat, emission_factor_meat,\n",
    "                                     emission_factor_meat, emission_factor_meat, emission_factor_meat,emission_factor_meat,emission_factor_meat], axis=0)\n",
    "\n",
    "\n",
    "def food2(param2):\n",
    "    if param2 == 1:\n",
    "        weekly_spending = 50\n",
    "    elif param2 == 2:\n",
    "        weekly_spending = 100\n",
    "    elif param2 == 3:\n",
    "        weekly_spending = 150\n",
    "    elif param2 == 4:\n",
    "        weekly_spending = 200\n",
    "    else:\n",
    "        return None\n",
    "    \n",
    "    return weekly_spending\n",
    "\n",
    "\n",
    "diet = food1(1)  # Diet type (e.g., 3 for \"No beef\")\n",
    "spending = food2(1)  # Weekly spending (e.g., 1 for $50)\n",
    "\n",
    "result = diet * spending\n",
    "\n",
    "df['Result'] = result\n",
    "total_resultAB = result.sum()  # Calculate the sum of the results\n",
    "\n",
    "print(df[['Categories', 'Result']])\n",
    "\n",
    "print()\n",
    "print(\"Total Result:\", total_resultAB)\n",
    "\n",
    "\n"
   ]
  },
  {
   "attachments": {},
   "cell_type": "markdown",
   "metadata": {},
   "source": [
    "Climate Change Emission Factors:\n",
    "\n",
    "-Dairy Products –\n",
    "-Meat Products – Beef\n",
    "-Fish Products\n",
    "-Food products (not elsewhere specified)\n",
    "-Vegetable oils and fats\n",
    "-Sugar \n",
    "-Fruit and vegetable juices\n",
    "-Cereals (grains/bread/pasta) "
   ]
  },
  {
   "cell_type": "markdown",
   "metadata": {},
   "source": [
    "3-Q2: In a week, approximately how much do you spend on groceries for your household, including food for meals prepared at home?"
   ]
  },
  {
   "cell_type": "code",
   "execution_count": 6,
   "metadata": {},
   "outputs": [],
   "source": [
    "def food3(parameter3):\n",
    "    if parameter3 == 1:\n",
    "        spend = 50\n",
    "    elif parameter3 == 2:\n",
    "        spend = 100\n",
    "    elif parameter3 == 3:\n",
    "        spend = 150\n",
    "    elif parameter3 == 4:\n",
    "        spend = 200\n",
    "    else:\n",
    "        return None\n",
    "    return spend"
   ]
  },
  {
   "cell_type": "markdown",
   "metadata": {},
   "source": [
    "From Climatiq, we can access the following emission factors:\n",
    "\n",
    "-Hotel and restaurant (services) (49 regions, exiobase 2019)\n",
    "-Food and beverages services (dine-in and takeaway) (UK)"
   ]
  },
  {
   "cell_type": "code",
   "execution_count": 8,
   "metadata": {},
   "outputs": [],
   "source": [
    "emission_factor = 0.1122 #kgCO2e/eur"
   ]
  },
  {
   "cell_type": "code",
   "execution_count": 9,
   "metadata": {},
   "outputs": [],
   "source": [
    "total_resultC= food3(1)*emission_factor"
   ]
  },
  {
   "cell_type": "code",
   "execution_count": 10,
   "metadata": {},
   "outputs": [],
   "source": [
    "total_result = total_resultAB +total_resultC"
   ]
  },
  {
   "cell_type": "code",
   "execution_count": 11,
   "metadata": {},
   "outputs": [
    {
     "data": {
      "text/plain": [
       "262.61"
      ]
     },
     "execution_count": 11,
     "metadata": {},
     "output_type": "execute_result"
    }
   ],
   "source": [
    "total_result"
   ]
  },
  {
   "cell_type": "code",
   "execution_count": 12,
   "metadata": {},
   "outputs": [],
   "source": [
    "def calculate_food_waste_impact(food_bought, waste_percentage):\n",
    "    # Calculate the reduction of the impact of food waste\n",
    "    if waste_percentage == \"None\":\n",
    "        reduction = 0.3\n",
    "    elif waste_percentage == \"0-10%\":\n",
    "        reduction = 0.2\n",
    "    elif waste_percentage == \"10-30%\":\n",
    "        reduction = 0\n",
    "    else:  # more than 30%\n",
    "        reduction = -0.1\n",
    "    impact_reduction = food_bought * reduction\n",
    "    return impact_reduction"
   ]
  },
  {
   "cell_type": "code",
   "execution_count": null,
   "metadata": {},
   "outputs": [],
   "source": []
  },
  {
   "cell_type": "code",
   "execution_count": null,
   "metadata": {},
   "outputs": [],
   "source": []
  },
  {
   "cell_type": "code",
   "execution_count": null,
   "metadata": {},
   "outputs": [],
   "source": []
  },
  {
   "cell_type": "code",
   "execution_count": null,
   "metadata": {},
   "outputs": [],
   "source": []
  },
  {
   "cell_type": "code",
   "execution_count": null,
   "metadata": {},
   "outputs": [],
   "source": []
  },
  {
   "cell_type": "code",
   "execution_count": null,
   "metadata": {},
   "outputs": [],
   "source": []
  },
  {
   "cell_type": "code",
   "execution_count": null,
   "metadata": {},
   "outputs": [],
   "source": []
  }
 ],
 "metadata": {
  "kernelspec": {
   "display_name": "Python 3",
   "language": "python",
   "name": "python3"
  },
  "language_info": {
   "codemirror_mode": {
    "name": "ipython",
    "version": 3
   },
   "file_extension": ".py",
   "mimetype": "text/x-python",
   "name": "python",
   "nbconvert_exporter": "python",
   "pygments_lexer": "ipython3",
   "version": "3.11.0"
  },
  "orig_nbformat": 4
 },
 "nbformat": 4,
 "nbformat_minor": 2
}
